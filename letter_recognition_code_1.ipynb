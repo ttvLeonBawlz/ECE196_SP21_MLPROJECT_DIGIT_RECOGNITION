{
 "cells": [
  {
   "cell_type": "code",
   "execution_count": 9,
   "id": "scientific-survival",
   "metadata": {},
   "outputs": [],
   "source": [
    "import numpy as np\n",
    "import pandas as pd"
   ]
  },
  {
   "cell_type": "code",
   "execution_count": 15,
   "id": "finite-furniture",
   "metadata": {},
   "outputs": [
    {
     "ename": "SyntaxError",
     "evalue": "(unicode error) 'unicodeescape' codec can't decode bytes in position 0-1: truncated \\UXXXXXXXX escape (<ipython-input-15-46c584a4bfdb>, line 2)",
     "output_type": "error",
     "traceback": [
      "\u001b[1;36m  File \u001b[1;32m\"<ipython-input-15-46c584a4bfdb>\"\u001b[1;36m, line \u001b[1;32m2\u001b[0m\n\u001b[1;33m    for dirname, _, filenames in os.walk('\\Users\\chris\\OneDrive\\UCSD EE Undergrad\\ECE 196 - 2021 Spring\\ML Project\\ECE196_SP21_MLPROJECT_DIGIT_RECOGNITION\\ECE196_SP21_MLPROJECT_DIGIT_RECOGNITION'):\u001b[0m\n\u001b[1;37m                                                                                                                                                                                                   ^\u001b[0m\n\u001b[1;31mSyntaxError\u001b[0m\u001b[1;31m:\u001b[0m (unicode error) 'unicodeescape' codec can't decode bytes in position 0-1: truncated \\UXXXXXXXX escape\n"
     ]
    }
   ],
   "source": [
    "import os\n",
    "for dirname, _, filenames in os.walk('\\Users\\chris\\OneDrive\\UCSD EE Undergrad\\ECE 196 - 2021 Spring\\ML Project\\ECE196_SP21_MLPROJECT_DIGIT_RECOGNITION\\ECE196_SP21_MLPROJECT_DIGIT_RECOGNITION'):\n",
    "    for filename in filenames:\n",
    "        print(os.path.join(dirname, filename))"
   ]
  },
  {
   "cell_type": "code",
   "execution_count": null,
   "id": "valuable-summer",
   "metadata": {},
   "outputs": [],
   "source": []
  }
 ],
 "metadata": {
  "kernelspec": {
   "display_name": "Python 3",
   "language": "python",
   "name": "python3"
  },
  "language_info": {
   "codemirror_mode": {
    "name": "ipython",
    "version": 3
   },
   "file_extension": ".py",
   "mimetype": "text/x-python",
   "name": "python",
   "nbconvert_exporter": "python",
   "pygments_lexer": "ipython3",
   "version": "3.9.2"
  }
 },
 "nbformat": 4,
 "nbformat_minor": 5
}
